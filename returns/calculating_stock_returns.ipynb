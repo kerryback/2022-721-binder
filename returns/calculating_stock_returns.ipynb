{
 "cells": [
  {
   "cell_type": "code",
   "execution_count": 1,
   "metadata": {},
   "outputs": [],
   "source": [
    "from pandas_datareader import DataReader as pdr\n",
    "\n",
    "price = pdr('cvx', 'yahoo', start=2010)['Adj Close']\n",
    "ret_daily = price.pct_change()"
   ]
  },
  {
   "cell_type": "code",
   "execution_count": 2,
   "metadata": {},
   "outputs": [],
   "source": [
    "ret_monthly = price.resample('M').last().pct_change()\n",
    "ret_annual = price.resample('Y').last().pct_change()\n",
    "\n",
    "# change datetime to monthly or annual (optional)\n",
    "\n",
    "ret_monthly.index = ret_monthly.index.to_period('M')\n",
    "ret_annual.index = ret_annual.index.to_period('Y')"
   ]
  }
 ],
 "metadata": {
  "kernelspec": {
   "display_name": "Python 3.9.12 ('base')",
   "language": "python",
   "name": "python3"
  },
  "language_info": {
   "codemirror_mode": {
    "name": "ipython",
    "version": 3
   },
   "file_extension": ".py",
   "mimetype": "text/x-python",
   "name": "python",
   "nbconvert_exporter": "python",
   "pygments_lexer": "ipython3",
   "version": "3.9.12"
  },
  "orig_nbformat": 4,
  "vscode": {
   "interpreter": {
    "hash": "b5c05ba2117f00041673d0c20a311ccae61983ee346578ba5a53c5d4ee98e5af"
   }
  }
 },
 "nbformat": 4,
 "nbformat_minor": 2
}
