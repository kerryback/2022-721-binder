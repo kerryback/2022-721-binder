{
 "cells": [
  {
   "cell_type": "code",
   "execution_count": null,
   "metadata": {},
   "outputs": [],
   "source": [
    "import pandas as pd\n",
    "from scipy.stats import norm\n",
    "\n",
    "x = pd.Series(norm.rvs(loc=0, scale=1, size=100))\n",
    "print('skewness is', x.skew())\n",
    "print('kurtosis is', x.kurt())"
   ]
  },
  {
   "cell_type": "code",
   "execution_count": null,
   "metadata": {},
   "outputs": [],
   "source": [
    "from pandas_datareader import DataReader as pdr\n",
    "daily = 'F-F_Research_Data_Factors_daily'\n",
    "daily = pdr(daily, 'famafrench', 1927)[0]\n",
    "daily = daily['Mkt-RF'] + daily['RF']\n",
    "\n",
    "monthly = pdr('F-F_Research_Data_Factors', 'famafrench', 1927)[0]\n",
    "annual = pdr('F-F_Research_Data_Factors', 'famafrench', 1927)[1]\n",
    "monthly = monthly['Mkt-RF'] + monthly['RF']\n",
    "annual = annual['Mkt-RF'] + annual['RF']\n",
    "\n",
    "print('daily skew and kurt are', daily.skew(), daily.kurt())\n",
    "print('monthly skew and kurt are', monthly.skew(), monthly.kurt())\n",
    "print('annual skew and kurt are', annual.skew(), annual.kurt())"
   ]
  },
  {
   "cell_type": "code",
   "execution_count": null,
   "metadata": {},
   "outputs": [],
   "source": []
  }
 ],
 "metadata": {
  "kernelspec": {
   "display_name": "Python 3.10.6 64-bit",
   "language": "python",
   "name": "python3"
  },
  "language_info": {
   "name": "python",
   "version": "3.10.6"
  },
  "orig_nbformat": 4,
  "vscode": {
   "interpreter": {
    "hash": "ae9da2b25b194386c9852b2f869da9a9811f704a8766504ccc13580f57295c99"
   }
  }
 },
 "nbformat": 4,
 "nbformat_minor": 2
}
