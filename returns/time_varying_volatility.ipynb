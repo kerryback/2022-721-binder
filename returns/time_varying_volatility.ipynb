{
 "cells": [
  {
   "cell_type": "code",
   "execution_count": null,
   "metadata": {},
   "outputs": [],
   "source": [
    "import pandas as pd\n",
    "from scipy.stats import norm\n",
    "\n",
    "x1 = pd.Series(norm.rvs(0,1,1000))\n",
    "x2 = pd.Series(norm.rvs(0,4,1000))\n",
    "x = pd.concat((x1, x2))\n",
    "x.plot(kind=\"kde\")"
   ]
  },
  {
   "cell_type": "code",
   "execution_count": null,
   "metadata": {},
   "outputs": [],
   "source": [
    "import numpy as np \n",
    "import pandas as pd\n",
    "from scipy.stats import norm\n",
    "import matplotlib.pyplot as plt\n",
    "\n",
    "x1 = pd.Series(norm.rvs(0,1,1000))\n",
    "x2 = pd.Series(norm.rvs(0,4,1000))\n",
    "x = pd.concat((x1, x2))\n",
    "\n",
    "mn = x.mean()\n",
    "sd = x.std()\n",
    "grid = np.linspace(mn-3*sd, mn+3*sd, 101)\n",
    "y = norm.pdf(grid, mn, sd)\n",
    "\n",
    "_ = x.plot(kind=\"kde\", label=\"mixture\")\n",
    "_ = plt.plot(grid, y, label=\"normal\")\n",
    "_ = plt.legend()"
   ]
  }
 ],
 "metadata": {
  "kernelspec": {
   "display_name": "Python 3.10.6 64-bit",
   "language": "python",
   "name": "python3"
  },
  "language_info": {
   "name": "python",
   "version": "3.10.6"
  },
  "orig_nbformat": 4,
  "vscode": {
   "interpreter": {
    "hash": "ae9da2b25b194386c9852b2f869da9a9811f704a8766504ccc13580f57295c99"
   }
  }
 },
 "nbformat": 4,
 "nbformat_minor": 2
}
