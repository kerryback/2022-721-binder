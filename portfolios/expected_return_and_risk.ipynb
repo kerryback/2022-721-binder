{
 "cells": [
  {
   "cell_type": "code",
   "execution_count": null,
   "metadata": {},
   "outputs": [],
   "source": [
    "import numpy as np\n",
    "\n",
    "# standard deviations\n",
    "sds = np.array([0.20, 0.12, 0.15])\n",
    "S = np.diag(sds)\n",
    "\n",
    "# correlations\n",
    "r12 = 0.4\n",
    "r13 = 0.2\n",
    "r23 = 0.3\n",
    "\n",
    "R = np.identity(3)\n",
    "R[0, 1] = R[1, 0] = r12\n",
    "R[0, 2] = R[2, 0] = r13\n",
    "R[1, 2] = R[2, 1] = r23\n",
    "\n",
    "# covariance matrix\n",
    "C = S @ R @ S\n",
    "\n",
    "# portfolio\n",
    "w = np.array(0.25, 0.25, 0.5)\n",
    "\n",
    "# portfolio std dev\n",
    "np.sqrt(w @ C @ w)"
   ]
  }
 ],
 "metadata": {
  "kernelspec": {
   "display_name": "Python 3.10.6 64-bit",
   "language": "python",
   "name": "python3"
  },
  "language_info": {
   "name": "python",
   "version": "3.10.6"
  },
  "orig_nbformat": 4,
  "vscode": {
   "interpreter": {
    "hash": "ae9da2b25b194386c9852b2f869da9a9811f704a8766504ccc13580f57295c99"
   }
  }
 },
 "nbformat": 4,
 "nbformat_minor": 2
}
