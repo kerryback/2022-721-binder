{
 "cells": [
  {
   "cell_type": "code",
   "execution_count": null,
   "metadata": {},
   "outputs": [],
   "source": [
    "import numpy as np"
   ]
  }
 ],
 "metadata": {
  "kernelspec": {
   "display_name": "Python 3.10.3 ('venv': venv)",
   "language": "python",
   "name": "python3"
  },
  "language_info": {
   "name": "python",
   "version": "3.10.3"
  },
  "orig_nbformat": 4,
  "vscode": {
   "interpreter": {
    "hash": "58d5b2f1c3836027a23e8a43ccfc27c476e0a3dc7f3bc0aa114292760e574fe6"
   }
  }
 },
 "nbformat": 4,
 "nbformat_minor": 2
}
