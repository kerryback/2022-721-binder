{
 "cells": [
  {
   "cell_type": "code",
   "execution_count": null,
   "metadata": {},
   "outputs": [],
   "source": [
    "from scipy.stats import norm\n",
    "import numpy as np\n",
    "\n",
    "# monthly parameters\n",
    "mu, sigma = 0.01, .3/np.sqrt(12)  \n",
    "\n",
    "# monthly returns: 25 years, 1,000 times\n",
    "mrets = norm.rvs(loc=mu, scale=sigma, size=12*25*1000)\n",
    "mrets = mrets.reshape(12, 25, 1000)\n",
    "mmeans = np.mean(mrets, axis=(0,1))\n",
    "msds = np.std(mrets, axis=(0,1))\n",
    "\n",
    "# compound to annual returns\n",
    "arets = np.prod(1+mrets, axis=0) - 1\n",
    "ameans = np.mean(arets, axis=0)\n",
    "asds = np.std(arets, axis=0)"
   ]
  }
 ],
 "metadata": {
  "kernelspec": {
   "display_name": "Python 3.10.6 64-bit",
   "language": "python",
   "name": "python3"
  },
  "language_info": {
   "name": "python",
   "version": "3.10.6"
  },
  "orig_nbformat": 4,
  "vscode": {
   "interpreter": {
    "hash": "ae9da2b25b194386c9852b2f869da9a9811f704a8766504ccc13580f57295c99"
   }
  }
 },
 "nbformat": 4,
 "nbformat_minor": 2
}
