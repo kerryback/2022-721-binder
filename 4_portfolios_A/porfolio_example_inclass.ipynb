{
 "cells": [
  {
   "cell_type": "code",
   "execution_count": 5,
   "metadata": {
    "pycharm": {
     "name": "#%%\n"
    }
   },
   "outputs": [],
   "source": [
    "import numpy as np\n",
    "from cvxopt import matrix\n",
    "from cvxopt.solvers import qp\n",
    "\n",
    "rs = 0.02\n",
    "rb = 0.05\n",
    "mn1, mn2, mn3 = 0.06, 0.08, 0.10\n",
    "sd1, sd2, sd3 = 0.1, 0.15, 0.12\n",
    "corr12, corr13, corr23 = 0.5, 0.7, 0.6\n",
    "targ = 0.09\n",
    "\n",
    "S = np.diag([sd1, sd2, sd3])\n",
    "R = np.identity(3)\n",
    "R[0, 1] = R[1, 0] = corr12\n",
    "R[0, 2] = R[2, 0] = corr13\n",
    "R[1, 2] = R[2, 1] = corr23\n",
    "C = S @ R @ S"
   ]
  },
  {
   "cell_type": "code",
   "execution_count": 6,
   "metadata": {
    "collapsed": false,
    "pycharm": {
     "name": "#%%\n"
    }
   },
   "outputs": [],
   "source": [
    "P = np.zeros((5,5))\n",
    "P[2:,2:] = C\n",
    "q = np.zeros(5)\n",
    "G = - np.identity(5)\n",
    "h = np.zeros(5)\n",
    "b = [1., targ]\n",
    "\n",
    "P = matrix(P, (5,5))\n",
    "q = matrix(q, (5,1))\n",
    "G = matrix(G, (5,5))\n",
    "h = matrix(h, (5,1))\n",
    "b = matrix(b, (2,1))"
   ]
  },
  {
   "cell_type": "markdown",
   "metadata": {},
   "source": [
    "### Method in class: Doesn't work"
   ]
  },
  {
   "cell_type": "code",
   "execution_count": 7,
   "metadata": {},
   "outputs": [],
   "source": [
    "A = [[1., -1., 1., 1., 1.], [rs, -rb, mn1, mn2, mn3]]\n",
    "A = matrix(A, (2,5))"
   ]
  },
  {
   "cell_type": "markdown",
   "metadata": {},
   "source": [
    "The matrix function fills in A, using all 10 numbers, and going down columns.  We can see this by turning the matrix object into a numpy array."
   ]
  },
  {
   "cell_type": "code",
   "execution_count": 8,
   "metadata": {},
   "outputs": [
    {
     "data": {
      "text/plain": [
       "array([[ 1.  ,  1.  ,  1.  , -0.05,  0.08],\n",
       "       [-1.  ,  1.  ,  0.02,  0.06,  0.1 ]])"
      ]
     },
     "execution_count": 8,
     "metadata": {},
     "output_type": "execute_result"
    }
   ],
   "source": [
    "np.array(A)"
   ]
  },
  {
   "cell_type": "markdown",
   "metadata": {},
   "source": [
    "### Method that works\n",
    "\n",
    "Turn A into an array before applying the matrix function."
   ]
  },
  {
   "cell_type": "code",
   "execution_count": 10,
   "metadata": {},
   "outputs": [
    {
     "name": "stdout",
     "output_type": "stream",
     "text": [
      "     pcost       dcost       gap    pres   dres\n",
      " 0:  6.1320e-03 -7.3381e-01  8e+00  3e+00  3e+00\n",
      " 1:  2.1163e-02 -1.0944e+00  1e+00  3e-01  5e-01\n",
      " 2:  2.5267e-02 -1.0036e-02  4e-02  7e-15  1e-16\n",
      " 3:  7.8176e-03  3.7178e-03  4e-03  1e-15  4e-18\n",
      " 4:  5.8469e-03  4.6753e-03  1e-03  2e-16  2e-18\n",
      " 5:  5.9323e-03  5.2964e-03  6e-04  2e-16  3e-18\n",
      " 6:  5.5478e-03  5.4876e-03  6e-05  1e-16  2e-18\n",
      " 7:  5.5151e-03  5.5102e-03  5e-06  2e-17  4e-18\n",
      " 8:  5.5128e-03  5.5122e-03  7e-07  2e-16  1e-18\n",
      " 9:  5.5125e-03  5.5125e-03  9e-08  1e-16  2e-18\n",
      "Optimal solution found.\n",
      "[ 1.24e-01]\n",
      "[ 3.60e-07]\n",
      "[ 1.62e-06]\n",
      "[ 2.44e-03]\n",
      "[ 8.73e-01]\n",
      "\n"
     ]
    }
   ],
   "source": [
    "A = np.array([[1., -1., 1., 1., 1.], [rs, -rb, mn1, mn2, mn3]])\n",
    "A = matrix(A, (2,5))\n",
    "\n",
    "sol = qp(P=P, q=q, G=G, h=h, A=A, b=b)\n",
    "print(sol[\"x\"])"
   ]
  },
  {
   "cell_type": "markdown",
   "metadata": {},
   "source": [
    "The solution is to invest 0.873 in asset 3 and 0.002 in asset 2 and save the rest."
   ]
  }
 ],
 "metadata": {
  "kernelspec": {
   "display_name": "Python 3.10.8 64-bit",
   "language": "python",
   "name": "python3"
  },
  "language_info": {
   "codemirror_mode": {
    "name": "ipython",
    "version": 3
   },
   "file_extension": ".py",
   "mimetype": "text/x-python",
   "name": "python",
   "nbconvert_exporter": "python",
   "pygments_lexer": "ipython3",
   "version": "3.10.8"
  },
  "orig_nbformat": 4,
  "vscode": {
   "interpreter": {
    "hash": "a98f34b6005ae2330f135078450db511ef8910ecc790235ef0560aa88aa6ce12"
   }
  }
 },
 "nbformat": 4,
 "nbformat_minor": 2
}
